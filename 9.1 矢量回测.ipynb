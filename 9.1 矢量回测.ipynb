{
 "cells": [
  {
   "cell_type": "markdown",
   "metadata": {},
   "source": [
    "# 9.1 矢量回测\n",
    "\n",
    "两种回测框架：\n",
    "\n",
    "**《矢量回测》**\n",
    "\n",
    "- 近似Excel 回测\n",
    "- 以矢量化的方式处理数据，同时处理多个数据点。\n",
    "- 优点：回测速度块\n",
    "\n",
    "\n",
    "**《事件回测》**\n",
    "\n",
    "- 基于事件触发的策略测试方法。能更好地模拟实时交易环境，细化每个事件触发时采取实际的交易操作。\n",
    "- 聚宽、ptrade、QMT、掘金；模拟交易、实盘交易"
   ]
  },
  {
   "cell_type": "code",
   "execution_count": 40,
   "metadata": {},
   "outputs": [
    {
     "data": {
      "text/html": [
       "<div>\n",
       "<style scoped>\n",
       "    .dataframe tbody tr th:only-of-type {\n",
       "        vertical-align: middle;\n",
       "    }\n",
       "\n",
       "    .dataframe tbody tr th {\n",
       "        vertical-align: top;\n",
       "    }\n",
       "\n",
       "    .dataframe thead th {\n",
       "        text-align: right;\n",
       "    }\n",
       "</style>\n",
       "<table border=\"1\" class=\"dataframe\">\n",
       "  <thead>\n",
       "    <tr style=\"text-align: right;\">\n",
       "      <th></th>\n",
       "      <th>close</th>\n",
       "    </tr>\n",
       "  </thead>\n",
       "  <tbody>\n",
       "    <tr>\n",
       "      <th>2016-11-25</th>\n",
       "      <td>3.159</td>\n",
       "    </tr>\n",
       "    <tr>\n",
       "      <th>2016-11-28</th>\n",
       "      <td>3.173</td>\n",
       "    </tr>\n",
       "    <tr>\n",
       "      <th>2016-11-29</th>\n",
       "      <td>3.198</td>\n",
       "    </tr>\n",
       "    <tr>\n",
       "      <th>2016-11-30</th>\n",
       "      <td>3.169</td>\n",
       "    </tr>\n",
       "    <tr>\n",
       "      <th>2016-12-01</th>\n",
       "      <td>3.199</td>\n",
       "    </tr>\n",
       "  </tbody>\n",
       "</table>\n",
       "</div>"
      ],
      "text/plain": [
       "            close\n",
       "2016-11-25  3.159\n",
       "2016-11-28  3.173\n",
       "2016-11-29  3.198\n",
       "2016-11-30  3.169\n",
       "2016-12-01  3.199"
      ]
     },
     "execution_count": 40,
     "metadata": {},
     "output_type": "execute_result"
    }
   ],
   "source": [
    "import pandas as pd\n",
    "import numpy as np\n",
    "data = get_price(security = '510300.XSHG', count=1000, \n",
    "               end_date='2020-12-31', frequency='daily', \n",
    "               fields=[ 'close'])\n",
    "data.head()"
   ]
  },
  {
   "cell_type": "markdown",
   "metadata": {},
   "source": [
    "## 9.1.1 计算收益率"
   ]
  },
  {
   "cell_type": "code",
   "execution_count": 41,
   "metadata": {},
   "outputs": [
    {
     "data": {
      "text/html": [
       "<div>\n",
       "<style scoped>\n",
       "    .dataframe tbody tr th:only-of-type {\n",
       "        vertical-align: middle;\n",
       "    }\n",
       "\n",
       "    .dataframe tbody tr th {\n",
       "        vertical-align: top;\n",
       "    }\n",
       "\n",
       "    .dataframe thead th {\n",
       "        text-align: right;\n",
       "    }\n",
       "</style>\n",
       "<table border=\"1\" class=\"dataframe\">\n",
       "  <thead>\n",
       "    <tr style=\"text-align: right;\">\n",
       "      <th></th>\n",
       "      <th>close</th>\n",
       "      <th>return</th>\n",
       "      <th>comp_return</th>\n",
       "    </tr>\n",
       "  </thead>\n",
       "  <tbody>\n",
       "    <tr>\n",
       "      <th>2020-12-25</th>\n",
       "      <td>4.792</td>\n",
       "      <td>0.008205</td>\n",
       "      <td>1.516936</td>\n",
       "    </tr>\n",
       "    <tr>\n",
       "      <th>2020-12-28</th>\n",
       "      <td>4.805</td>\n",
       "      <td>0.002713</td>\n",
       "      <td>1.521051</td>\n",
       "    </tr>\n",
       "    <tr>\n",
       "      <th>2020-12-29</th>\n",
       "      <td>4.790</td>\n",
       "      <td>-0.003122</td>\n",
       "      <td>1.516303</td>\n",
       "    </tr>\n",
       "    <tr>\n",
       "      <th>2020-12-30</th>\n",
       "      <td>4.850</td>\n",
       "      <td>0.012526</td>\n",
       "      <td>1.535296</td>\n",
       "    </tr>\n",
       "    <tr>\n",
       "      <th>2020-12-31</th>\n",
       "      <td>4.953</td>\n",
       "      <td>0.021237</td>\n",
       "      <td>1.567901</td>\n",
       "    </tr>\n",
       "  </tbody>\n",
       "</table>\n",
       "</div>"
      ],
      "text/plain": [
       "            close    return  comp_return\n",
       "2020-12-25  4.792  0.008205     1.516936\n",
       "2020-12-28  4.805  0.002713     1.521051\n",
       "2020-12-29  4.790 -0.003122     1.516303\n",
       "2020-12-30  4.850  0.012526     1.535296\n",
       "2020-12-31  4.953  0.021237     1.567901"
      ]
     },
     "execution_count": 41,
     "metadata": {},
     "output_type": "execute_result"
    }
   ],
   "source": [
    "data['return'] = data['close'].pct_change()\n",
    "data['comp_return'] = (1 + data['return']).cumprod()\n",
    "data.tail()"
   ]
  },
  {
   "cell_type": "code",
   "execution_count": null,
   "metadata": {},
   "outputs": [],
   "source": []
  },
  {
   "cell_type": "markdown",
   "metadata": {},
   "source": [
    "## 9.1.2 计算技术指标及信号"
   ]
  },
  {
   "cell_type": "code",
   "execution_count": 43,
   "metadata": {},
   "outputs": [
    {
     "data": {
      "text/html": [
       "<div>\n",
       "<style scoped>\n",
       "    .dataframe tbody tr th:only-of-type {\n",
       "        vertical-align: middle;\n",
       "    }\n",
       "\n",
       "    .dataframe tbody tr th {\n",
       "        vertical-align: top;\n",
       "    }\n",
       "\n",
       "    .dataframe thead th {\n",
       "        text-align: right;\n",
       "    }\n",
       "</style>\n",
       "<table border=\"1\" class=\"dataframe\">\n",
       "  <thead>\n",
       "    <tr style=\"text-align: right;\">\n",
       "      <th></th>\n",
       "      <th>close</th>\n",
       "      <th>return</th>\n",
       "      <th>comp_return</th>\n",
       "      <th>sma</th>\n",
       "      <th>lma</th>\n",
       "      <th>signal</th>\n",
       "    </tr>\n",
       "  </thead>\n",
       "  <tbody>\n",
       "    <tr>\n",
       "      <th>2020-12-25</th>\n",
       "      <td>4.792</td>\n",
       "      <td>0.008205</td>\n",
       "      <td>1.516936</td>\n",
       "      <td>4.7600</td>\n",
       "      <td>4.7400</td>\n",
       "      <td>1</td>\n",
       "    </tr>\n",
       "    <tr>\n",
       "      <th>2020-12-28</th>\n",
       "      <td>4.805</td>\n",
       "      <td>0.002713</td>\n",
       "      <td>1.521051</td>\n",
       "      <td>4.7636</td>\n",
       "      <td>4.7523</td>\n",
       "      <td>1</td>\n",
       "    </tr>\n",
       "    <tr>\n",
       "      <th>2020-12-29</th>\n",
       "      <td>4.790</td>\n",
       "      <td>-0.003122</td>\n",
       "      <td>1.516303</td>\n",
       "      <td>4.7786</td>\n",
       "      <td>4.7617</td>\n",
       "      <td>1</td>\n",
       "    </tr>\n",
       "    <tr>\n",
       "      <th>2020-12-30</th>\n",
       "      <td>4.850</td>\n",
       "      <td>0.012526</td>\n",
       "      <td>1.535296</td>\n",
       "      <td>4.7980</td>\n",
       "      <td>4.7762</td>\n",
       "      <td>1</td>\n",
       "    </tr>\n",
       "    <tr>\n",
       "      <th>2020-12-31</th>\n",
       "      <td>4.953</td>\n",
       "      <td>0.021237</td>\n",
       "      <td>1.567901</td>\n",
       "      <td>4.8380</td>\n",
       "      <td>4.7943</td>\n",
       "      <td>1</td>\n",
       "    </tr>\n",
       "  </tbody>\n",
       "</table>\n",
       "</div>"
      ],
      "text/plain": [
       "            close    return  comp_return     sma     lma  signal\n",
       "2020-12-25  4.792  0.008205     1.516936  4.7600  4.7400       1\n",
       "2020-12-28  4.805  0.002713     1.521051  4.7636  4.7523       1\n",
       "2020-12-29  4.790 -0.003122     1.516303  4.7786  4.7617       1\n",
       "2020-12-30  4.850  0.012526     1.535296  4.7980  4.7762       1\n",
       "2020-12-31  4.953  0.021237     1.567901  4.8380  4.7943       1"
      ]
     },
     "execution_count": 43,
     "metadata": {},
     "output_type": "execute_result"
    }
   ],
   "source": [
    "data['sma'] =  data['close'].rolling(window = 5).mean()\n",
    "data['lma'] =  data['close'].rolling(window = 10).mean()\n",
    "data['signal'] = data.apply(lambda x: 1 if x.sma > x.lma\n",
    "                           else (-1 if x.sma < x.lma else 0)\n",
    "                           , axis = 1)\n",
    "data.tail()"
   ]
  },
  {
   "cell_type": "markdown",
   "metadata": {},
   "source": [
    "## 9.1.3 计算日收益率"
   ]
  },
  {
   "cell_type": "code",
   "execution_count": 45,
   "metadata": {},
   "outputs": [
    {
     "data": {
      "text/plain": [
       "<matplotlib.axes._subplots.AxesSubplot at 0x7f372db4acf8>"
      ]
     },
     "execution_count": 45,
     "metadata": {},
     "output_type": "execute_result"
    },
    {
     "data": {
      "image/png": "[encoded data removed]",
      "text/plain": [
       "<Figure size 432x288 with 1 Axes>"
      ]
     },
     "metadata": {
      "needs_background": "light"
     },
     "output_type": "display_data"
    }
   ],
   "source": [
    "data['ma_comp_return'] = (1 + data['signal'].shift(1) * data['return']).cumprod()\n",
    "data[['comp_return','ma_comp_return']].plot()\n"
   ]
  },
  {
   "cell_type": "code",
   "execution_count": null,
   "metadata": {},
   "outputs": [],
   "source": []
  },
  {
   "cell_type": "code",
   "execution_count": null,
   "metadata": {},
   "outputs": [],
   "source": []
  }
 ],
 "metadata": {
  "kernelspec": {
   "display_name": "Python 3",
   "language": "python",
   "name": "python3"
  },
  "language_info": {
   "codemirror_mode": {
    "name": "ipython",
    "version": 3
   },
   "file_extension": ".py",
   "mimetype": "text/x-python",
   "name": "python",
   "nbconvert_exporter": "python",
   "pygments_lexer": "ipython3",
   "version": "3.6.7"
  },
  "toc": {
   "base_numbering": 1,
   "nav_menu": {},
   "number_sections": false,
   "sideBar": true,
   "skip_h1_title": false,
   "title_cell": "MarkDown菜单",
   "title_sidebar": "Contents",
   "toc_cell": false,
   "toc_position": {},
   "toc_section_display": true,
   "toc_window_display": true
  }
 },
 "nbformat": 4,
 "nbformat_minor": 2
}
